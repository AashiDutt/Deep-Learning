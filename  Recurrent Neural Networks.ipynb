{
 "cells": [
  {
   "cell_type": "markdown",
   "metadata": {},
   "source": [
    "# In this notebook we will learn about Time Series Forecsting , Recurrent Predictor, Rolling Windows and LSTM on Windows."
   ]
  },
  {
   "cell_type": "code",
   "execution_count": 3,
   "metadata": {},
   "outputs": [],
   "source": [
    "import numpy as np\n",
    "import pandas as pd\n",
    "import matplotlib.pyplot as plt\n",
    "%matplotlib inline"
   ]
  },
  {
   "cell_type": "code",
   "execution_count": 7,
   "metadata": {},
   "outputs": [],
   "source": [
    "df= pd.read_csv('cansim-0800020-eng-6674700030567901031.csv',\n",
    "                 skiprows=6, skipfooter=9,\n",
    "                 engine='python')"
   ]
  },
  {
   "cell_type": "code",
   "execution_count": 8,
   "metadata": {},
   "outputs": [
    {
     "data": {
      "text/html": [
       "<div>\n",
       "<style scoped>\n",
       "    .dataframe tbody tr th:only-of-type {\n",
       "        vertical-align: middle;\n",
       "    }\n",
       "\n",
       "    .dataframe tbody tr th {\n",
       "        vertical-align: top;\n",
       "    }\n",
       "\n",
       "    .dataframe thead th {\n",
       "        text-align: right;\n",
       "    }\n",
       "</style>\n",
       "<table border=\"1\" class=\"dataframe\">\n",
       "  <thead>\n",
       "    <tr style=\"text-align: right;\">\n",
       "      <th></th>\n",
       "      <th>Adjustments</th>\n",
       "      <th>Unadjusted</th>\n",
       "      <th>Seasonally adjusted</th>\n",
       "    </tr>\n",
       "  </thead>\n",
       "  <tbody>\n",
       "    <tr>\n",
       "      <th>0</th>\n",
       "      <td>Jan-1991</td>\n",
       "      <td>12588862</td>\n",
       "      <td>15026890</td>\n",
       "    </tr>\n",
       "    <tr>\n",
       "      <th>1</th>\n",
       "      <td>Feb-1991</td>\n",
       "      <td>12154321</td>\n",
       "      <td>15304585</td>\n",
       "    </tr>\n",
       "    <tr>\n",
       "      <th>2</th>\n",
       "      <td>Mar-1991</td>\n",
       "      <td>14337072</td>\n",
       "      <td>15413591</td>\n",
       "    </tr>\n",
       "    <tr>\n",
       "      <th>3</th>\n",
       "      <td>Apr-1991</td>\n",
       "      <td>15108570</td>\n",
       "      <td>15293409</td>\n",
       "    </tr>\n",
       "    <tr>\n",
       "      <th>4</th>\n",
       "      <td>May-1991</td>\n",
       "      <td>17225734</td>\n",
       "      <td>15676083</td>\n",
       "    </tr>\n",
       "  </tbody>\n",
       "</table>\n",
       "</div>"
      ],
      "text/plain": [
       "  Adjustments  Unadjusted  Seasonally adjusted\n",
       "0    Jan-1991    12588862             15026890\n",
       "1    Feb-1991    12154321             15304585\n",
       "2    Mar-1991    14337072             15413591\n",
       "3    Apr-1991    15108570             15293409\n",
       "4    May-1991    17225734             15676083"
      ]
     },
     "execution_count": 8,
     "metadata": {},
     "output_type": "execute_result"
    }
   ],
   "source": [
    "df.head()"
   ]
  },
  {
   "cell_type": "code",
   "execution_count": 9,
   "metadata": {},
   "outputs": [],
   "source": [
    "# convert Adjustments feature to index\n",
    "\n",
    "from pandas.tseries.offsets import MonthEnd"
   ]
  },
  {
   "cell_type": "code",
   "execution_count": 11,
   "metadata": {},
   "outputs": [
    {
     "data": {
      "text/html": [
       "<div>\n",
       "<style scoped>\n",
       "    .dataframe tbody tr th:only-of-type {\n",
       "        vertical-align: middle;\n",
       "    }\n",
       "\n",
       "    .dataframe tbody tr th {\n",
       "        vertical-align: top;\n",
       "    }\n",
       "\n",
       "    .dataframe thead th {\n",
       "        text-align: right;\n",
       "    }\n",
       "</style>\n",
       "<table border=\"1\" class=\"dataframe\">\n",
       "  <thead>\n",
       "    <tr style=\"text-align: right;\">\n",
       "      <th></th>\n",
       "      <th>Unadjusted</th>\n",
       "      <th>Seasonally adjusted</th>\n",
       "    </tr>\n",
       "    <tr>\n",
       "      <th>Adjustments</th>\n",
       "      <th></th>\n",
       "      <th></th>\n",
       "    </tr>\n",
       "  </thead>\n",
       "  <tbody>\n",
       "    <tr>\n",
       "      <th>1991-01-31</th>\n",
       "      <td>12588862</td>\n",
       "      <td>15026890</td>\n",
       "    </tr>\n",
       "    <tr>\n",
       "      <th>1991-02-28</th>\n",
       "      <td>12154321</td>\n",
       "      <td>15304585</td>\n",
       "    </tr>\n",
       "    <tr>\n",
       "      <th>1991-03-31</th>\n",
       "      <td>14337072</td>\n",
       "      <td>15413591</td>\n",
       "    </tr>\n",
       "    <tr>\n",
       "      <th>1991-04-30</th>\n",
       "      <td>15108570</td>\n",
       "      <td>15293409</td>\n",
       "    </tr>\n",
       "    <tr>\n",
       "      <th>1991-05-31</th>\n",
       "      <td>17225734</td>\n",
       "      <td>15676083</td>\n",
       "    </tr>\n",
       "  </tbody>\n",
       "</table>\n",
       "</div>"
      ],
      "text/plain": [
       "             Unadjusted  Seasonally adjusted\n",
       "Adjustments                                 \n",
       "1991-01-31     12588862             15026890\n",
       "1991-02-28     12154321             15304585\n",
       "1991-03-31     14337072             15413591\n",
       "1991-04-30     15108570             15293409\n",
       "1991-05-31     17225734             15676083"
      ]
     },
     "execution_count": 11,
     "metadata": {},
     "output_type": "execute_result"
    }
   ],
   "source": [
    "df['Adjustments'] = pd.to_datetime(df['Adjustments'] ) + MonthEnd(1)\n",
    "df = df.set_index('Adjustments')\n",
    "df.head()"
   ]
  },
  {
   "cell_type": "code",
   "execution_count": 12,
   "metadata": {},
   "outputs": [
    {
     "data": {
      "text/plain": [
       "<matplotlib.axes._subplots.AxesSubplot at 0x23d7174a240>"
      ]
     },
     "execution_count": 12,
     "metadata": {},
     "output_type": "execute_result"
    },
    {
     "data": {
      "image/png": "[encoded data removed]",
      "text/plain": [
       "<matplotlib.figure.Figure at 0x23d716f0b00>"
      ]
     },
     "metadata": {},
     "output_type": "display_data"
    }
   ],
   "source": [
    "df.plot()"
   ]
  },
  {
   "cell_type": "code",
   "execution_count": 19,
   "metadata": {},
   "outputs": [],
   "source": [
    "# Split data wrt  date\n",
    "\n",
    "split_date = pd.Timestamp('01-01-2011')"
   ]
  },
  {
   "cell_type": "code",
   "execution_count": 20,
   "metadata": {},
   "outputs": [],
   "source": [
    "train = df.loc[:split_date, ['Unadjusted']]\n",
    "test = df.loc[split_date:, ['Unadjusted']]\n"
   ]
  },
  {
   "cell_type": "code",
   "execution_count": 21,
   "metadata": {},
   "outputs": [
    {
     "data": {
      "text/plain": [
       "<matplotlib.legend.Legend at 0x23d75573828>"
      ]
     },
     "execution_count": 21,
     "metadata": {},
     "output_type": "execute_result"
    },
    {
     "data": {
      "image/png": "[encoded data removed]",
      "text/plain": [
       "<matplotlib.figure.Figure at 0x23d755737b8>"
      ]
     },
     "metadata": {},
     "output_type": "display_data"
    }
   ],
   "source": [
    "ax =train.plot()\n",
    "test.plot(ax=ax)\n",
    "plt.legend(['train','test']) \n",
    "\n",
    "#  the plot shows  blue colored line as training data and orange colored line as test set"
   ]
  },
  {
   "cell_type": "code",
   "execution_count": 22,
   "metadata": {},
   "outputs": [],
   "source": [
    "# rescaling the data\n",
    "# we fit and transform only our training data and only transform our test data (so you dont assume to know the scale of your test data)\n",
    "\n",
    "from sklearn.preprocessing import MinMaxScaler\n",
    "\n",
    "sc = MinMaxScaler()\n",
    "\n",
    "train_sc = sc.fit_transform(train)\n",
    "test_sc = sc.transform(test)"
   ]
  },
  {
   "cell_type": "code",
   "execution_count": 23,
   "metadata": {},
   "outputs": [
    {
     "data": {
      "text/plain": [
       "array([[0.01402033],\n",
       "       [0.        ],\n",
       "       [0.0704258 ],\n",
       "       [0.09531795]])"
      ]
     },
     "execution_count": 23,
     "metadata": {},
     "output_type": "execute_result"
    }
   ],
   "source": [
    "train_sc[:4]  # new scaled datapoints"
   ]
  },
  {
   "cell_type": "code",
   "execution_count": 24,
   "metadata": {},
   "outputs": [],
   "source": [
    "# from above we see that each data learns from its previous data\n",
    "# so, we take our training labels as  1+ the trainig data\n",
    "\n",
    "X_train = train_sc[:-1]\n",
    "y_train = train_sc[1:]\n",
    "\n",
    "X_test = test_sc[:-1]\n",
    "y_test = test_sc[1:]"
   ]
  },
  {
   "cell_type": "code",
   "execution_count": 25,
   "metadata": {},
   "outputs": [
    {
     "name": "stderr",
     "output_type": "stream",
     "text": [
      "Using TensorFlow backend.\n"
     ]
    }
   ],
   "source": [
    "# creating a model with 1 i/p and 1 o/p (this is a regression problem)\n",
    "\n",
    "from keras.models import Sequential\n",
    "from keras.layers import Dense\n",
    "import keras.backend as K\n",
    "from keras.callbacks import EarlyStopping"
   ]
  },
  {
   "cell_type": "code",
   "execution_count": 26,
   "metadata": {},
   "outputs": [],
   "source": [
    "K.clear_session()\n",
    "\n",
    "model =Sequential()\n",
    "model.add(Dense(12, input_dim=1 , activation='relu'))\n",
    "model.add(Dense(1))\n",
    "model.compile(loss='mean_squared_error',optimizer='adam')\n"
   ]
  },
  {
   "cell_type": "code",
   "execution_count": 27,
   "metadata": {},
   "outputs": [
    {
     "name": "stdout",
     "output_type": "stream",
     "text": [
      "_________________________________________________________________\n",
      "Layer (type)                 Output Shape              Param #   \n",
      "=================================================================\n",
      "dense_1 (Dense)              (None, 12)                24        \n",
      "_________________________________________________________________\n",
      "dense_2 (Dense)              (None, 1)                 13        \n",
      "=================================================================\n",
      "Total params: 37\n",
      "Trainable params: 37\n",
      "Non-trainable params: 0\n",
      "_________________________________________________________________\n"
     ]
    }
   ],
   "source": [
    "model.summary()"
   ]
  },
  {
   "cell_type": "code",
   "execution_count": 28,
   "metadata": {},
   "outputs": [],
   "source": [
    "early_stop =EarlyStopping(monitor='loss',patience =1 ,verbose=1)\n"
   ]
  },
  {
   "cell_type": "code",
   "execution_count": 29,
   "metadata": {},
   "outputs": [
    {
     "name": "stdout",
     "output_type": "stream",
     "text": [
      "Epoch 1/200\n",
      "239/239 [==============================] - 1s 3ms/step - loss: 0.4029\n",
      "Epoch 2/200\n",
      "239/239 [==============================] - 0s 1ms/step - loss: 0.1018\n",
      "Epoch 3/200\n",
      "239/239 [==============================] - 0s 978us/step - loss: 0.0454\n",
      "Epoch 4/200\n",
      "239/239 [==============================] - 0s 550us/step - loss: 0.0353\n",
      "Epoch 5/200\n",
      "239/239 [==============================] - 0s 583us/step - loss: 0.0308\n",
      "Epoch 6/200\n",
      "239/239 [==============================] - 0s 572us/step - loss: 0.0276\n",
      "Epoch 7/200\n",
      "239/239 [==============================] - 0s 610us/step - loss: 0.0250\n",
      "Epoch 8/200\n",
      "239/239 [==============================] - 0s 581us/step - loss: 0.0226\n",
      "Epoch 9/200\n",
      "239/239 [==============================] - 0s 583us/step - loss: 0.0206\n",
      "Epoch 10/200\n",
      "239/239 [==============================] - 0s 771us/step - loss: 0.0186\n",
      "Epoch 11/200\n",
      "239/239 [==============================] - 0s 1ms/step - loss: 0.0168\n",
      "Epoch 12/200\n",
      "239/239 [==============================] - 0s 619us/step - loss: 0.0154\n",
      "Epoch 13/200\n",
      "239/239 [==============================] - 0s 653us/step - loss: 0.0139\n",
      "Epoch 14/200\n",
      "239/239 [==============================] - 0s 635us/step - loss: 0.0128\n",
      "Epoch 15/200\n",
      "239/239 [==============================] - 0s 608us/step - loss: 0.0120\n",
      "Epoch 16/200\n",
      "239/239 [==============================] - 0s 568us/step - loss: 0.0113\n",
      "Epoch 17/200\n",
      "239/239 [==============================] - 0s 594us/step - loss: 0.0109\n",
      "Epoch 18/200\n",
      "239/239 [==============================] - 0s 1ms/step - loss: 0.0106\n",
      "Epoch 19/200\n",
      "239/239 [==============================] - 0s 1ms/step - loss: 0.0103\n",
      "Epoch 20/200\n",
      "239/239 [==============================] - 0s 705us/step - loss: 0.0100\n",
      "Epoch 21/200\n",
      "239/239 [==============================] - 0s 529us/step - loss: 0.0100\n",
      "Epoch 22/200\n",
      "239/239 [==============================] - 0s 587us/step - loss: 0.0099\n",
      "Epoch 23/200\n",
      "239/239 [==============================] - 0s 531us/step - loss: 0.0098\n",
      "Epoch 24/200\n",
      "239/239 [==============================] - 0s 497us/step - loss: 0.0097\n",
      "Epoch 25/200\n",
      "239/239 [==============================] - 0s 524us/step - loss: 0.0098\n",
      "Epoch 00025: early stopping\n"
     ]
    },
    {
     "data": {
      "text/plain": [
       "<keras.callbacks.History at 0x23d786f21d0>"
      ]
     },
     "execution_count": 29,
     "metadata": {},
     "output_type": "execute_result"
    }
   ],
   "source": [
    "model.fit(X_train,y_train, epochs=200,\n",
    "          batch_size=2, verbose=1,\n",
    "          callbacks=[early_stop])"
   ]
  },
  {
   "cell_type": "code",
   "execution_count": 30,
   "metadata": {},
   "outputs": [],
   "source": [
    "y_pred = model.predict(X_test) "
   ]
  },
  {
   "cell_type": "code",
   "execution_count": 31,
   "metadata": {},
   "outputs": [
    {
     "data": {
      "text/plain": [
       "[<matplotlib.lines.Line2D at 0x23d789c1ef0>]"
      ]
     },
     "execution_count": 31,
     "metadata": {},
     "output_type": "execute_result"
    },
    {
     "data": {
      "image/png": "[encoded data removed]",
      "text/plain": [
       "<matplotlib.figure.Figure at 0x23d786f20b8>"
      ]
     },
     "metadata": {},
     "output_type": "display_data"
    }
   ],
   "source": [
    "plt.plot(y_test)\n",
    "plt.plot(y_pred)"
   ]
  },
  {
   "cell_type": "code",
   "execution_count": 32,
   "metadata": {},
   "outputs": [],
   "source": [
    "# This model is not really good a its essentially repeating the input and will not predict the future correctly."
   ]
  },
  {
   "cell_type": "code",
   "execution_count": 33,
   "metadata": {},
   "outputs": [],
   "source": [
    "# so we make it better by using RECURRENT PREDICTOR\n"
   ]
  },
  {
   "cell_type": "markdown",
   "metadata": {},
   "source": [
    "# RECURRENT PREDICTOR"
   ]
  },
  {
   "cell_type": "code",
   "execution_count": 34,
   "metadata": {},
   "outputs": [],
   "source": [
    "from keras.layers import LSTM\n",
    "\n",
    "# LSTM = Long Short Term Memory"
   ]
  },
  {
   "cell_type": "code",
   "execution_count": 35,
   "metadata": {},
   "outputs": [
    {
     "data": {
      "text/plain": [
       "(239, 1)"
      ]
     },
     "execution_count": 35,
     "metadata": {},
     "output_type": "execute_result"
    }
   ],
   "source": [
    "X_train.shape"
   ]
  },
  {
   "cell_type": "code",
   "execution_count": 36,
   "metadata": {},
   "outputs": [
    {
     "data": {
      "text/plain": [
       "(239, 1, 1)"
      ]
     },
     "execution_count": 36,
     "metadata": {},
     "output_type": "execute_result"
    }
   ],
   "source": [
    "# converting X_train to a tensor of order 3\n",
    "\n",
    "X_train[:, None].shape"
   ]
  },
  {
   "cell_type": "code",
   "execution_count": 37,
   "metadata": {},
   "outputs": [],
   "source": [
    "X_train_t = X_train[:,None]\n",
    "X_test_t = X_test[:,None]"
   ]
  },
  {
   "cell_type": "code",
   "execution_count": 38,
   "metadata": {},
   "outputs": [],
   "source": [
    "# Building Model\n",
    "\n",
    "K.clear_session()\n",
    "\n",
    "model = Sequential()\n",
    "model.add(LSTM(6 , input_shape =(1,1) ))\n",
    "model.add(Dense(1))\n",
    "model.compile(loss ='mean_squared_error',optimizer='adam')"
   ]
  },
  {
   "cell_type": "code",
   "execution_count": 39,
   "metadata": {},
   "outputs": [
    {
     "name": "stdout",
     "output_type": "stream",
     "text": [
      "Epoch 1/100\n",
      "239/239 [==============================] - 2s 8ms/step - loss: 0.1068\n",
      "Epoch 2/100\n",
      "239/239 [==============================] - 1s 2ms/step - loss: 0.0325\n",
      "Epoch 3/100\n",
      "239/239 [==============================] - 0s 2ms/step - loss: 0.0259\n",
      "Epoch 4/100\n",
      "239/239 [==============================] - 1s 3ms/step - loss: 0.0207\n",
      "Epoch 5/100\n",
      "239/239 [==============================] - 0s 2ms/step - loss: 0.0169\n",
      "Epoch 6/100\n",
      "239/239 [==============================] - 1s 2ms/step - loss: 0.0138\n",
      "Epoch 7/100\n",
      "239/239 [==============================] - 1s 3ms/step - loss: 0.0119\n",
      "Epoch 8/100\n",
      "239/239 [==============================] - 0s 2ms/step - loss: 0.0110\n",
      "Epoch 9/100\n",
      "239/239 [==============================] - 1s 4ms/step - loss: 0.0105\n",
      "Epoch 10/100\n",
      "239/239 [==============================] - 1s 2ms/step - loss: 0.0103\n",
      "Epoch 11/100\n",
      "239/239 [==============================] - 1s 3ms/step - loss: 0.0103\n",
      "Epoch 00011: early stopping\n"
     ]
    },
    {
     "data": {
      "text/plain": [
       "<keras.callbacks.History at 0x23d789f29b0>"
      ]
     },
     "execution_count": 39,
     "metadata": {},
     "output_type": "execute_result"
    }
   ],
   "source": [
    "model.fit(X_train_t, y_train,\n",
    "          epochs=100, batch_size=1, verbose=1,\n",
    "          callbacks=[early_stop])"
   ]
  },
  {
   "cell_type": "code",
   "execution_count": 40,
   "metadata": {},
   "outputs": [
    {
     "data": {
      "text/plain": [
       "[<matplotlib.lines.Line2D at 0x23d7a3b6e80>]"
      ]
     },
     "execution_count": 40,
     "metadata": {},
     "output_type": "execute_result"
    },
    {
     "data": {
      "image/png": "[encoded data removed]",
      "text/plain": [
       "<matplotlib.figure.Figure at 0x23d7a407e10>"
      ]
     },
     "metadata": {},
     "output_type": "display_data"
    }
   ],
   "source": [
    "y_pred = model.predict(X_test_t)\n",
    "plt.plot(y_test)\n",
    "plt.plot(y_pred)"
   ]
  },
  {
   "cell_type": "code",
   "execution_count": 41,
   "metadata": {},
   "outputs": [],
   "source": [
    "# this has done much better than previous model but not what we needed .\n",
    "# so now we try using Windows approch.\n"
   ]
  },
  {
   "cell_type": "markdown",
   "metadata": {},
   "source": [
    "# Windows"
   ]
  },
  {
   "cell_type": "code",
   "execution_count": 42,
   "metadata": {},
   "outputs": [
    {
     "data": {
      "text/plain": [
       "(240, 1)"
      ]
     },
     "execution_count": 42,
     "metadata": {},
     "output_type": "execute_result"
    }
   ],
   "source": [
    "train_sc.shape"
   ]
  },
  {
   "cell_type": "code",
   "execution_count": 43,
   "metadata": {},
   "outputs": [
    {
     "data": {
      "text/html": [
       "<div>\n",
       "<style scoped>\n",
       "    .dataframe tbody tr th:only-of-type {\n",
       "        vertical-align: middle;\n",
       "    }\n",
       "\n",
       "    .dataframe tbody tr th {\n",
       "        vertical-align: top;\n",
       "    }\n",
       "\n",
       "    .dataframe thead th {\n",
       "        text-align: right;\n",
       "    }\n",
       "</style>\n",
       "<table border=\"1\" class=\"dataframe\">\n",
       "  <thead>\n",
       "    <tr style=\"text-align: right;\">\n",
       "      <th></th>\n",
       "      <th>Scaled</th>\n",
       "    </tr>\n",
       "    <tr>\n",
       "      <th>Adjustments</th>\n",
       "      <th></th>\n",
       "    </tr>\n",
       "  </thead>\n",
       "  <tbody>\n",
       "    <tr>\n",
       "      <th>1991-01-31</th>\n",
       "      <td>0.014020</td>\n",
       "    </tr>\n",
       "    <tr>\n",
       "      <th>1991-02-28</th>\n",
       "      <td>0.000000</td>\n",
       "    </tr>\n",
       "    <tr>\n",
       "      <th>1991-03-31</th>\n",
       "      <td>0.070426</td>\n",
       "    </tr>\n",
       "    <tr>\n",
       "      <th>1991-04-30</th>\n",
       "      <td>0.095318</td>\n",
       "    </tr>\n",
       "    <tr>\n",
       "      <th>1991-05-31</th>\n",
       "      <td>0.163628</td>\n",
       "    </tr>\n",
       "  </tbody>\n",
       "</table>\n",
       "</div>"
      ],
      "text/plain": [
       "               Scaled\n",
       "Adjustments          \n",
       "1991-01-31   0.014020\n",
       "1991-02-28   0.000000\n",
       "1991-03-31   0.070426\n",
       "1991-04-30   0.095318\n",
       "1991-05-31   0.163628"
      ]
     },
     "execution_count": 43,
     "metadata": {},
     "output_type": "execute_result"
    }
   ],
   "source": [
    "# building a scled time series using shift function from pandas\n",
    "    \n",
    "\n",
    "train_sc_df = pd.DataFrame(train_sc, columns=['Scaled'], index=train.index)\n",
    "test_sc_df = pd.DataFrame(test_sc, columns=['Scaled'], index=test.index)\n",
    "train_sc_df.head()"
   ]
  },
  {
   "cell_type": "code",
   "execution_count": 44,
   "metadata": {},
   "outputs": [],
   "source": [
    "# ranging for 12 months\n",
    "\n",
    "for s in range(1, 13):\n",
    "    train_sc_df['shift_{}'.format(s)] = train_sc_df['Scaled'].shift(s)\n",
    "    test_sc_df['shift_{}'.format(s)] = test_sc_df['Scaled'].shift(s)"
   ]
  },
  {
   "cell_type": "code",
   "execution_count": 46,
   "metadata": {},
   "outputs": [
    {
     "data": {
      "text/html": [
       "<div>\n",
       "<style scoped>\n",
       "    .dataframe tbody tr th:only-of-type {\n",
       "        vertical-align: middle;\n",
       "    }\n",
       "\n",
       "    .dataframe tbody tr th {\n",
       "        vertical-align: top;\n",
       "    }\n",
       "\n",
       "    .dataframe thead th {\n",
       "        text-align: right;\n",
       "    }\n",
       "</style>\n",
       "<table border=\"1\" class=\"dataframe\">\n",
       "  <thead>\n",
       "    <tr style=\"text-align: right;\">\n",
       "      <th></th>\n",
       "      <th>Scaled</th>\n",
       "      <th>shift_1</th>\n",
       "      <th>shift_2</th>\n",
       "      <th>shift_3</th>\n",
       "      <th>shift_4</th>\n",
       "      <th>shift_5</th>\n",
       "      <th>shift_6</th>\n",
       "      <th>shift_7</th>\n",
       "      <th>shift_8</th>\n",
       "      <th>shift_9</th>\n",
       "      <th>shift_10</th>\n",
       "      <th>shift_11</th>\n",
       "      <th>shift_12</th>\n",
       "    </tr>\n",
       "    <tr>\n",
       "      <th>Adjustments</th>\n",
       "      <th></th>\n",
       "      <th></th>\n",
       "      <th></th>\n",
       "      <th></th>\n",
       "      <th></th>\n",
       "      <th></th>\n",
       "      <th></th>\n",
       "      <th></th>\n",
       "      <th></th>\n",
       "      <th></th>\n",
       "      <th></th>\n",
       "      <th></th>\n",
       "      <th></th>\n",
       "    </tr>\n",
       "  </thead>\n",
       "  <tbody>\n",
       "    <tr>\n",
       "      <th>2011-01-31</th>\n",
       "      <td>0.614232</td>\n",
       "      <td>NaN</td>\n",
       "      <td>NaN</td>\n",
       "      <td>NaN</td>\n",
       "      <td>NaN</td>\n",
       "      <td>NaN</td>\n",
       "      <td>NaN</td>\n",
       "      <td>NaN</td>\n",
       "      <td>NaN</td>\n",
       "      <td>NaN</td>\n",
       "      <td>NaN</td>\n",
       "      <td>NaN</td>\n",
       "      <td>NaN</td>\n",
       "    </tr>\n",
       "    <tr>\n",
       "      <th>2011-02-28</th>\n",
       "      <td>0.569266</td>\n",
       "      <td>0.614232</td>\n",
       "      <td>NaN</td>\n",
       "      <td>NaN</td>\n",
       "      <td>NaN</td>\n",
       "      <td>NaN</td>\n",
       "      <td>NaN</td>\n",
       "      <td>NaN</td>\n",
       "      <td>NaN</td>\n",
       "      <td>NaN</td>\n",
       "      <td>NaN</td>\n",
       "      <td>NaN</td>\n",
       "      <td>NaN</td>\n",
       "    </tr>\n",
       "    <tr>\n",
       "      <th>2011-03-31</th>\n",
       "      <td>0.772596</td>\n",
       "      <td>0.569266</td>\n",
       "      <td>0.614232</td>\n",
       "      <td>NaN</td>\n",
       "      <td>NaN</td>\n",
       "      <td>NaN</td>\n",
       "      <td>NaN</td>\n",
       "      <td>NaN</td>\n",
       "      <td>NaN</td>\n",
       "      <td>NaN</td>\n",
       "      <td>NaN</td>\n",
       "      <td>NaN</td>\n",
       "      <td>NaN</td>\n",
       "    </tr>\n",
       "    <tr>\n",
       "      <th>2011-04-30</th>\n",
       "      <td>0.835057</td>\n",
       "      <td>0.772596</td>\n",
       "      <td>0.569266</td>\n",
       "      <td>0.614232</td>\n",
       "      <td>NaN</td>\n",
       "      <td>NaN</td>\n",
       "      <td>NaN</td>\n",
       "      <td>NaN</td>\n",
       "      <td>NaN</td>\n",
       "      <td>NaN</td>\n",
       "      <td>NaN</td>\n",
       "      <td>NaN</td>\n",
       "      <td>NaN</td>\n",
       "    </tr>\n",
       "    <tr>\n",
       "      <th>2011-05-31</th>\n",
       "      <td>0.899933</td>\n",
       "      <td>0.835057</td>\n",
       "      <td>0.772596</td>\n",
       "      <td>0.569266</td>\n",
       "      <td>0.614232</td>\n",
       "      <td>NaN</td>\n",
       "      <td>NaN</td>\n",
       "      <td>NaN</td>\n",
       "      <td>NaN</td>\n",
       "      <td>NaN</td>\n",
       "      <td>NaN</td>\n",
       "      <td>NaN</td>\n",
       "      <td>NaN</td>\n",
       "    </tr>\n",
       "    <tr>\n",
       "      <th>2011-06-30</th>\n",
       "      <td>0.925520</td>\n",
       "      <td>0.899933</td>\n",
       "      <td>0.835057</td>\n",
       "      <td>0.772596</td>\n",
       "      <td>0.569266</td>\n",
       "      <td>0.614232</td>\n",
       "      <td>NaN</td>\n",
       "      <td>NaN</td>\n",
       "      <td>NaN</td>\n",
       "      <td>NaN</td>\n",
       "      <td>NaN</td>\n",
       "      <td>NaN</td>\n",
       "      <td>NaN</td>\n",
       "    </tr>\n",
       "    <tr>\n",
       "      <th>2011-07-31</th>\n",
       "      <td>0.893021</td>\n",
       "      <td>0.925520</td>\n",
       "      <td>0.899933</td>\n",
       "      <td>0.835057</td>\n",
       "      <td>0.772596</td>\n",
       "      <td>0.569266</td>\n",
       "      <td>0.614232</td>\n",
       "      <td>NaN</td>\n",
       "      <td>NaN</td>\n",
       "      <td>NaN</td>\n",
       "      <td>NaN</td>\n",
       "      <td>NaN</td>\n",
       "      <td>NaN</td>\n",
       "    </tr>\n",
       "    <tr>\n",
       "      <th>2011-08-31</th>\n",
       "      <td>0.883631</td>\n",
       "      <td>0.893021</td>\n",
       "      <td>0.925520</td>\n",
       "      <td>0.899933</td>\n",
       "      <td>0.835057</td>\n",
       "      <td>0.772596</td>\n",
       "      <td>0.569266</td>\n",
       "      <td>0.614232</td>\n",
       "      <td>NaN</td>\n",
       "      <td>NaN</td>\n",
       "      <td>NaN</td>\n",
       "      <td>NaN</td>\n",
       "      <td>NaN</td>\n",
       "    </tr>\n",
       "    <tr>\n",
       "      <th>2011-09-30</th>\n",
       "      <td>0.862208</td>\n",
       "      <td>0.883631</td>\n",
       "      <td>0.893021</td>\n",
       "      <td>0.925520</td>\n",
       "      <td>0.899933</td>\n",
       "      <td>0.835057</td>\n",
       "      <td>0.772596</td>\n",
       "      <td>0.569266</td>\n",
       "      <td>0.614232</td>\n",
       "      <td>NaN</td>\n",
       "      <td>NaN</td>\n",
       "      <td>NaN</td>\n",
       "      <td>NaN</td>\n",
       "    </tr>\n",
       "    <tr>\n",
       "      <th>2011-10-31</th>\n",
       "      <td>0.840481</td>\n",
       "      <td>0.862208</td>\n",
       "      <td>0.883631</td>\n",
       "      <td>0.893021</td>\n",
       "      <td>0.925520</td>\n",
       "      <td>0.899933</td>\n",
       "      <td>0.835057</td>\n",
       "      <td>0.772596</td>\n",
       "      <td>0.569266</td>\n",
       "      <td>0.614232</td>\n",
       "      <td>NaN</td>\n",
       "      <td>NaN</td>\n",
       "      <td>NaN</td>\n",
       "    </tr>\n",
       "    <tr>\n",
       "      <th>2011-11-30</th>\n",
       "      <td>0.871806</td>\n",
       "      <td>0.840481</td>\n",
       "      <td>0.862208</td>\n",
       "      <td>0.883631</td>\n",
       "      <td>0.893021</td>\n",
       "      <td>0.925520</td>\n",
       "      <td>0.899933</td>\n",
       "      <td>0.835057</td>\n",
       "      <td>0.772596</td>\n",
       "      <td>0.569266</td>\n",
       "      <td>0.614232</td>\n",
       "      <td>NaN</td>\n",
       "      <td>NaN</td>\n",
       "    </tr>\n",
       "    <tr>\n",
       "      <th>2011-12-31</th>\n",
       "      <td>1.062650</td>\n",
       "      <td>0.871806</td>\n",
       "      <td>0.840481</td>\n",
       "      <td>0.862208</td>\n",
       "      <td>0.883631</td>\n",
       "      <td>0.893021</td>\n",
       "      <td>0.925520</td>\n",
       "      <td>0.899933</td>\n",
       "      <td>0.835057</td>\n",
       "      <td>0.772596</td>\n",
       "      <td>0.569266</td>\n",
       "      <td>0.614232</td>\n",
       "      <td>NaN</td>\n",
       "    </tr>\n",
       "    <tr>\n",
       "      <th>2012-01-31</th>\n",
       "      <td>0.651988</td>\n",
       "      <td>1.062650</td>\n",
       "      <td>0.871806</td>\n",
       "      <td>0.840481</td>\n",
       "      <td>0.862208</td>\n",
       "      <td>0.883631</td>\n",
       "      <td>0.893021</td>\n",
       "      <td>0.925520</td>\n",
       "      <td>0.899933</td>\n",
       "      <td>0.835057</td>\n",
       "      <td>0.772596</td>\n",
       "      <td>0.569266</td>\n",
       "      <td>0.614232</td>\n",
       "    </tr>\n",
       "  </tbody>\n",
       "</table>\n",
       "</div>"
      ],
      "text/plain": [
       "               Scaled   shift_1   shift_2   shift_3   shift_4   shift_5  \\\n",
       "Adjustments                                                               \n",
       "2011-01-31   0.614232       NaN       NaN       NaN       NaN       NaN   \n",
       "2011-02-28   0.569266  0.614232       NaN       NaN       NaN       NaN   \n",
       "2011-03-31   0.772596  0.569266  0.614232       NaN       NaN       NaN   \n",
       "2011-04-30   0.835057  0.772596  0.569266  0.614232       NaN       NaN   \n",
       "2011-05-31   0.899933  0.835057  0.772596  0.569266  0.614232       NaN   \n",
       "2011-06-30   0.925520  0.899933  0.835057  0.772596  0.569266  0.614232   \n",
       "2011-07-31   0.893021  0.925520  0.899933  0.835057  0.772596  0.569266   \n",
       "2011-08-31   0.883631  0.893021  0.925520  0.899933  0.835057  0.772596   \n",
       "2011-09-30   0.862208  0.883631  0.893021  0.925520  0.899933  0.835057   \n",
       "2011-10-31   0.840481  0.862208  0.883631  0.893021  0.925520  0.899933   \n",
       "2011-11-30   0.871806  0.840481  0.862208  0.883631  0.893021  0.925520   \n",
       "2011-12-31   1.062650  0.871806  0.840481  0.862208  0.883631  0.893021   \n",
       "2012-01-31   0.651988  1.062650  0.871806  0.840481  0.862208  0.883631   \n",
       "\n",
       "              shift_6   shift_7   shift_8   shift_9  shift_10  shift_11  \\\n",
       "Adjustments                                                               \n",
       "2011-01-31        NaN       NaN       NaN       NaN       NaN       NaN   \n",
       "2011-02-28        NaN       NaN       NaN       NaN       NaN       NaN   \n",
       "2011-03-31        NaN       NaN       NaN       NaN       NaN       NaN   \n",
       "2011-04-30        NaN       NaN       NaN       NaN       NaN       NaN   \n",
       "2011-05-31        NaN       NaN       NaN       NaN       NaN       NaN   \n",
       "2011-06-30        NaN       NaN       NaN       NaN       NaN       NaN   \n",
       "2011-07-31   0.614232       NaN       NaN       NaN       NaN       NaN   \n",
       "2011-08-31   0.569266  0.614232       NaN       NaN       NaN       NaN   \n",
       "2011-09-30   0.772596  0.569266  0.614232       NaN       NaN       NaN   \n",
       "2011-10-31   0.835057  0.772596  0.569266  0.614232       NaN       NaN   \n",
       "2011-11-30   0.899933  0.835057  0.772596  0.569266  0.614232       NaN   \n",
       "2011-12-31   0.925520  0.899933  0.835057  0.772596  0.569266  0.614232   \n",
       "2012-01-31   0.893021  0.925520  0.899933  0.835057  0.772596  0.569266   \n",
       "\n",
       "             shift_12  \n",
       "Adjustments            \n",
       "2011-01-31        NaN  \n",
       "2011-02-28        NaN  \n",
       "2011-03-31        NaN  \n",
       "2011-04-30        NaN  \n",
       "2011-05-31        NaN  \n",
       "2011-06-30        NaN  \n",
       "2011-07-31        NaN  \n",
       "2011-08-31        NaN  \n",
       "2011-09-30        NaN  \n",
       "2011-10-31        NaN  \n",
       "2011-11-30        NaN  \n",
       "2011-12-31        NaN  \n",
       "2012-01-31   0.614232  "
      ]
     },
     "execution_count": 46,
     "metadata": {},
     "output_type": "execute_result"
    }
   ],
   "source": [
    "test_sc_df.head(13)"
   ]
  },
  {
   "cell_type": "code",
   "execution_count": 47,
   "metadata": {},
   "outputs": [],
   "source": [
    "# dropping the NaN values from dataframe along with Scaled which is our target label\n",
    "X_train = train_sc_df.dropna().drop('Scaled', axis=1)\n",
    "y_train = train_sc_df.dropna()[['Scaled']]\n",
    "\n",
    "X_test = test_sc_df.dropna().drop('Scaled', axis=1)\n",
    "y_test = test_sc_df.dropna()[['Scaled']]"
   ]
  },
  {
   "cell_type": "code",
   "execution_count": 49,
   "metadata": {},
   "outputs": [
    {
     "data": {
      "text/plain": [
       "(228, 12)"
      ]
     },
     "execution_count": 49,
     "metadata": {},
     "output_type": "execute_result"
    }
   ],
   "source": [
    "X_train.shape"
   ]
  },
  {
   "cell_type": "code",
   "execution_count": 50,
   "metadata": {},
   "outputs": [],
   "source": [
    "X_train = X_train.values\n",
    "X_test= X_test.values\n",
    "\n",
    "y_train = y_train.values\n",
    "y_test = y_test.values"
   ]
  },
  {
   "cell_type": "code",
   "execution_count": 51,
   "metadata": {},
   "outputs": [
    {
     "name": "stdout",
     "output_type": "stream",
     "text": [
      "_________________________________________________________________\n",
      "Layer (type)                 Output Shape              Param #   \n",
      "=================================================================\n",
      "dense_1 (Dense)              (None, 12)                156       \n",
      "_________________________________________________________________\n",
      "dense_2 (Dense)              (None, 1)                 13        \n",
      "=================================================================\n",
      "Total params: 169\n",
      "Trainable params: 169\n",
      "Non-trainable params: 0\n",
      "_________________________________________________________________\n"
     ]
    }
   ],
   "source": [
    "# building a fully connected  model\n",
    "\n",
    "K.clear_session()\n",
    "\n",
    "model =Sequential()\n",
    "model.add(Dense(12, input_dim=12, activation='relu'))\n",
    "model.add(Dense(1))\n",
    "model.compile(loss='mean_squared_error', optimizer='adam')\n",
    "model.summary()"
   ]
  },
  {
   "cell_type": "code",
   "execution_count": 52,
   "metadata": {},
   "outputs": [
    {
     "name": "stdout",
     "output_type": "stream",
     "text": [
      "Epoch 1/200\n",
      "228/228 [==============================] - 1s 3ms/step - loss: 0.0103\n",
      "Epoch 2/200\n",
      "228/228 [==============================] - 0s 1ms/step - loss: 0.0080\n",
      "Epoch 3/200\n",
      "228/228 [==============================] - 0s 1ms/step - loss: 0.0073\n",
      "Epoch 4/200\n",
      "228/228 [==============================] - 0s 1ms/step - loss: 0.0060\n",
      "Epoch 5/200\n",
      "228/228 [==============================] - 0s 2ms/step - loss: 0.0044\n",
      "Epoch 6/200\n",
      "228/228 [==============================] - 0s 1ms/step - loss: 0.0038\n",
      "Epoch 7/200\n",
      "228/228 [==============================] - 0s 1ms/step - loss: 0.0031\n",
      "Epoch 8/200\n",
      "228/228 [==============================] - 0s 992us/step - loss: 0.0025\n",
      "Epoch 9/200\n",
      "228/228 [==============================] - 0s 1ms/step - loss: 0.0020\n",
      "Epoch 10/200\n",
      "228/228 [==============================] - 0s 2ms/step - loss: 0.0018\n",
      "Epoch 11/200\n",
      "228/228 [==============================] - 0s 1ms/step - loss: 0.0015\n",
      "Epoch 12/200\n",
      "228/228 [==============================] - 0s 967us/step - loss: 0.0015\n",
      "Epoch 00012: early stopping\n"
     ]
    },
    {
     "data": {
      "text/plain": [
       "<keras.callbacks.History at 0x23d7a3b62b0>"
      ]
     },
     "execution_count": 52,
     "metadata": {},
     "output_type": "execute_result"
    }
   ],
   "source": [
    "model.fit(X_train, y_train, epochs=200,\n",
    "          batch_size=1, verbose=1, callbacks=[early_stop])"
   ]
  },
  {
   "cell_type": "code",
   "execution_count": 53,
   "metadata": {},
   "outputs": [
    {
     "data": {
      "text/plain": [
       "[<matplotlib.lines.Line2D at 0x23d7a424390>]"
      ]
     },
     "execution_count": 53,
     "metadata": {},
     "output_type": "execute_result"
    },
    {
     "data": {
      "image/png": "[encoded data removed]",
      "text/plain": [
       "<matplotlib.figure.Figure at 0x23d7a3f3320>"
      ]
     },
     "metadata": {},
     "output_type": "display_data"
    }
   ],
   "source": [
    "y_pred = model.predict(X_test)\n",
    "plt.plot(y_test)\n",
    "plt.plot(y_pred)"
   ]
  },
  {
   "cell_type": "markdown",
   "metadata": {},
   "source": [
    "# LSTM on windows\n"
   ]
  },
  {
   "cell_type": "code",
   "execution_count": 54,
   "metadata": {},
   "outputs": [],
   "source": [
    "X_train_t = X_train.reshape(X_train.shape[0], 1, 12)\n",
    "X_test_t = X_test.reshape(X_test.shape[0], 1, 12)"
   ]
  },
  {
   "cell_type": "code",
   "execution_count": 55,
   "metadata": {},
   "outputs": [
    {
     "data": {
      "text/plain": [
       "(228, 1, 12)"
      ]
     },
     "execution_count": 55,
     "metadata": {},
     "output_type": "execute_result"
    }
   ],
   "source": [
    "X_train_t.shape"
   ]
  },
  {
   "cell_type": "code",
   "execution_count": 56,
   "metadata": {},
   "outputs": [],
   "source": [
    "K.clear_session()\n",
    "model = Sequential()\n",
    "\n",
    "model.add(LSTM(6, input_shape=(1, 12)))\n",
    "\n",
    "model.add(Dense(1))\n",
    "\n",
    "model.compile(loss='mean_squared_error', optimizer='adam')"
   ]
  },
  {
   "cell_type": "code",
   "execution_count": 57,
   "metadata": {},
   "outputs": [
    {
     "name": "stdout",
     "output_type": "stream",
     "text": [
      "_________________________________________________________________\n",
      "Layer (type)                 Output Shape              Param #   \n",
      "=================================================================\n",
      "lstm_1 (LSTM)                (None, 6)                 456       \n",
      "_________________________________________________________________\n",
      "dense_1 (Dense)              (None, 1)                 7         \n",
      "=================================================================\n",
      "Total params: 463\n",
      "Trainable params: 463\n",
      "Non-trainable params: 0\n",
      "_________________________________________________________________\n"
     ]
    }
   ],
   "source": [
    "model.summary()"
   ]
  },
  {
   "cell_type": "code",
   "execution_count": 58,
   "metadata": {},
   "outputs": [
    {
     "name": "stdout",
     "output_type": "stream",
     "text": [
      "Epoch 1/100\n",
      "228/228 [==============================] - 2s 9ms/step - loss: 0.0455\n",
      "Epoch 2/100\n",
      "228/228 [==============================] - 0s 2ms/step - loss: 0.0100A: 0s - loss: 0.\n",
      "Epoch 3/100\n",
      "228/228 [==============================] - 1s 3ms/step - loss: 0.0080\n",
      "Epoch 4/100\n",
      "228/228 [==============================] - 1s 3ms/step - loss: 0.0074\n",
      "Epoch 5/100\n",
      "228/228 [==============================] - 1s 2ms/step - loss: 0.0067\n",
      "Epoch 6/100\n",
      "228/228 [==============================] - 1s 3ms/step - loss: 0.0062\n",
      "Epoch 7/100\n",
      "228/228 [==============================] - 1s 2ms/step - loss: 0.0056\n",
      "Epoch 8/100\n",
      "228/228 [==============================] - 1s 4ms/step - loss: 0.0051\n",
      "Epoch 9/100\n",
      "228/228 [==============================] - 0s 2ms/step - loss: 0.0049\n",
      "Epoch 10/100\n",
      "228/228 [==============================] - 1s 3ms/step - loss: 0.0042\n",
      "Epoch 11/100\n",
      "228/228 [==============================] - 1s 3ms/step - loss: 0.0035\n",
      "Epoch 12/100\n",
      "228/228 [==============================] - 1s 2ms/step - loss: 0.0031\n",
      "Epoch 13/100\n",
      "228/228 [==============================] - 1s 3ms/step - loss: 0.0028\n",
      "Epoch 14/100\n",
      "228/228 [==============================] - 1s 2ms/step - loss: 0.0023\n",
      "Epoch 15/100\n",
      "228/228 [==============================] - 1s 3ms/step - loss: 0.0022\n",
      "Epoch 16/100\n",
      "228/228 [==============================] - 1s 2ms/step - loss: 0.0020\n",
      "Epoch 17/100\n",
      "228/228 [==============================] - 0s 2ms/step - loss: 0.0017\n",
      "Epoch 18/100\n",
      "228/228 [==============================] - 1s 4ms/step - loss: 0.0016\n",
      "Epoch 19/100\n",
      "228/228 [==============================] - 0s 2ms/step - loss: 0.0016\n",
      "Epoch 00019: early stopping\n"
     ]
    },
    {
     "data": {
      "text/plain": [
       "<keras.callbacks.History at 0x23d7a424080>"
      ]
     },
     "execution_count": 58,
     "metadata": {},
     "output_type": "execute_result"
    }
   ],
   "source": [
    "model.fit(X_train_t, y_train, epochs=100,\n",
    "          batch_size=1, verbose=1, callbacks=[early_stop])"
   ]
  },
  {
   "cell_type": "code",
   "execution_count": 59,
   "metadata": {},
   "outputs": [
    {
     "data": {
      "text/plain": [
       "[<matplotlib.lines.Line2D at 0x23d7c089080>]"
      ]
     },
     "execution_count": 59,
     "metadata": {},
     "output_type": "execute_result"
    },
    {
     "data": {
      "image/png": "[encoded data removed]",
      "text/plain": [
       "<matplotlib.figure.Figure at 0x23d7a4249e8>"
      ]
     },
     "metadata": {},
     "output_type": "display_data"
    }
   ],
   "source": [
    "y_pred = model.predict(X_test_t)\n",
    "plt.plot(y_test)\n",
    "plt.plot(y_pred)"
   ]
  },
  {
   "cell_type": "code",
   "execution_count": null,
   "metadata": {},
   "outputs": [],
   "source": []
  }
 ],
 "metadata": {
  "kernelspec": {
   "display_name": "Python 3",
   "language": "python",
   "name": "python3"
  },
  "language_info": {
   "codemirror_mode": {
    "name": "ipython",
    "version": 3
   },
   "file_extension": ".py",
   "mimetype": "text/x-python",
   "name": "python",
   "nbconvert_exporter": "python",
   "pygments_lexer": "ipython3",
   "version": "3.6.2"
  }
 },
 "nbformat": 4,
 "nbformat_minor": 2
}
