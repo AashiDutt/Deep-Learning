{
 "cells": [
  {
   "cell_type": "code",
   "execution_count": null,
   "metadata": {},
   "outputs": [],
   "source": [
    "# imports\n",
    "\n",
    "import tensorflow as tf\n",
    "import gym\n",
    "import numpy as np"
   ]
  },
  {
   "cell_type": "code",
   "execution_count": null,
   "metadata": {},
   "outputs": [],
   "source": [
    "num_inputs = 4\n",
    "num_hidden = 4\n",
    "num_outputs = 1"
   ]
  },
  {
   "cell_type": "code",
   "execution_count": null,
   "metadata": {},
   "outputs": [],
   "source": [
    "learning_rate = 0.01\n"
   ]
  },
  {
   "cell_type": "code",
   "execution_count": null,
   "metadata": {},
   "outputs": [],
   "source": [
    "initializer = tf.contrib.layers.variance_scaling_initializer()"
   ]
  },
  {
   "cell_type": "code",
   "execution_count": null,
   "metadata": {},
   "outputs": [],
   "source": [
    "X = tf.placeholder(tf.float32,shape =[None,num_inputs])"
   ]
  },
  {
   "cell_type": "code",
   "execution_count": null,
   "metadata": {},
   "outputs": [],
   "source": [
    "hidden_layer = tf.layers.dense(X,num_hidden,activation=tf.nn.elu,kernel_initializer=initializer)"
   ]
  },
  {
   "cell_type": "code",
   "execution_count": null,
   "metadata": {},
   "outputs": [],
   "source": [
    "logits = tf.layers.dense(hidden_layer,num_outputs)\n"
   ]
  },
  {
   "cell_type": "code",
   "execution_count": null,
   "metadata": {},
   "outputs": [],
   "source": [
    "outputs= tf.nn.sigmoid(logits)"
   ]
  },
  {
   "cell_type": "code",
   "execution_count": null,
   "metadata": {},
   "outputs": [],
   "source": [
    "probabilities = tf.concat(axis = 1,values =[outputs,1-outputs])\n",
    "\n",
    "action = tf.multinomial(probabilities,num_samples=1)"
   ]
  },
  {
   "cell_type": "code",
   "execution_count": null,
   "metadata": {},
   "outputs": [],
   "source": [
    "y = 1.0-tf.to_float(action)\n"
   ]
  },
  {
   "cell_type": "code",
   "execution_count": null,
   "metadata": {},
   "outputs": [],
   "source": [
    "cross_entropy = tf.nn.sigmoid_cross_entropy_with_logits(labels=y,logits = logits)"
   ]
  },
  {
   "cell_type": "code",
   "execution_count": null,
   "metadata": {},
   "outputs": [],
   "source": [
    "optimizer = tf.train.AdamOptimizer(learning_rate)"
   ]
  },
  {
   "cell_type": "code",
   "execution_count": null,
   "metadata": {},
   "outputs": [],
   "source": [
    "gradients_and_variables = optimizer.compute_gradients(cross_entropy)\n"
   ]
  },
  {
   "cell_type": "code",
   "execution_count": null,
   "metadata": {},
   "outputs": [],
   "source": [
    "gradients = []\n",
    "gradient_placeholders =[]\n",
    "grads_and_vars_feed =[]"
   ]
  },
  {
   "cell_type": "code",
   "execution_count": null,
   "metadata": {},
   "outputs": [],
   "source": [
    "for gradient ,variable in gradients_and_variables:\n",
    "    gradients.append(gradient)\n",
    "    gradient_placeholder = tf.placeholder(tf.float32, shape = gradient.get_shape())\n",
    "    gradient_placeholders.append(gradient_placeholder)\n",
    "    grads_and_vars_feed.append((gradient_placeholder,variable))"
   ]
  },
  {
   "cell_type": "code",
   "execution_count": null,
   "metadata": {},
   "outputs": [],
   "source": [
    "training_op = optimizer.apply_gradients(grads_and_vars_feed)"
   ]
  },
  {
   "cell_type": "code",
   "execution_count": null,
   "metadata": {},
   "outputs": [],
   "source": [
    "init = tf.global_variables_initializer()"
   ]
  },
  {
   "cell_type": "code",
   "execution_count": null,
   "metadata": {},
   "outputs": [],
   "source": [
    "saver = tf.train.Saver()"
   ]
  },
  {
   "cell_type": "code",
   "execution_count": null,
   "metadata": {},
   "outputs": [],
   "source": [
    "def helper_discount_rewards(rewards, discount_rate):\n",
    "    '''\n",
    "    Takes in rewards and applies discount rate\n",
    "    '''\n",
    "    discounted_rewards = np.zeros(len(rewards))\n",
    "    cumulative_rewards = 0\n",
    "    for step in reversed(range(len(rewards))):\n",
    "        cumulative_rewards = rewards[step] + cumulative_rewards * discount_rate\n",
    "        discounted_rewards[step] = cumulative_rewards\n",
    "    return discounted_rewards\n",
    "\n",
    "def discount_and_normalize_rewards(all_rewards, discount_rate):\n",
    "    '''\n",
    "    Takes in all rewards, applies helper_discount function and then normalizes\n",
    "    using mean and std.\n",
    "    '''\n",
    "    all_discounted_rewards = []\n",
    "    for rewards in all_rewards:\n",
    "        all_discounted_rewards.append(helper_discount_rewards(rewards,discount_rate))\n",
    "\n",
    "    flat_rewards = np.concatenate(all_discounted_rewards)\n",
    "    reward_mean = flat_rewards.mean()\n",
    "    reward_std = flat_rewards.std()\n",
    "    return [(discounted_rewards - reward_mean)/reward_std for discounted_rewards in all_discounted_rewards]\n",
    "\n",
    "########################################\n",
    "#### TRAINING SESSION #################\n",
    "######################################\n",
    "\n",
    "env = gym.make(\"CartPole-v0\")\n",
    "\n",
    "num_game_rounds = 10\n",
    "max_game_steps = 1000\n",
    "num_iterations = 250\n",
    "discount_rate = 0.95\n",
    "\n",
    "with tf.Session() as sess:\n",
    "    sess.run(init)\n",
    "\n",
    "\n",
    "    for iteration in range(num_iterations):\n",
    "        print(\"Currently on Iteration: {} \\n\".format(iteration) )\n",
    "\n",
    "        all_rewards = []\n",
    "        all_gradients = []\n",
    "\n",
    "        # Play n amount of game rounds\n",
    "        for game in range(num_game_rounds):\n",
    "\n",
    "            current_rewards = []\n",
    "            current_gradients = []\n",
    "\n",
    "            observations = env.reset()\n",
    "\n",
    "            # Only allow n amount of steps in game\n",
    "            for step in range(max_game_steps):\n",
    "\n",
    "                # Get Actions and Gradients\n",
    "                action_val, gradients_val = sess.run([action, gradients], feed_dict={X: observations.reshape(1, num_inputs)})\n",
    "\n",
    "                # Perform Action\n",
    "                observations, reward, done, info = env.step(action_val[0][0])\n",
    "\n",
    "                # Get Current Rewards and Gradients\n",
    "                current_rewards.append(reward)\n",
    "                current_gradients.append(gradients_val)\n",
    "\n",
    "                if done:\n",
    "                    # Game Ended\n",
    "                    break\n",
    "\n",
    "            # Append to list of all rewards\n",
    "            all_rewards.append(current_rewards)\n",
    "            all_gradients.append(current_gradients)\n",
    "\n",
    "        all_rewards = discount_and_normalize_rewards(all_rewards,discount_rate)\n",
    "        feed_dict = {}\n",
    "\n",
    "\n",
    "        for var_index, gradient_placeholder in enumerate(gradient_placeholders):\n",
    "            mean_gradients = np.mean([reward * all_gradients[game_index][step][var_index]\n",
    "                                      for game_index, rewards in enumerate(all_rewards)\n",
    "                                          for step, reward in enumerate(rewards)], axis=0)\n",
    "            feed_dict[gradient_placeholder] = mean_gradients\n",
    "\n",
    "        sess.run(training_op, feed_dict=feed_dict)\n",
    "\n",
    "    print('SAVING GRAPH AND SESSION')\n",
    "    meta_graph_def = tf.train.export_meta_graph(filename='/models/my-650-step-model.meta')\n",
    "    saver.save(sess, '/models/my-650-step-model')\n",
    "\n",
    "\n",
    "\n",
    "\n",
    "#############################################\n",
    "### RUN TRAINED MODEL ON ENVIRONMENT #######\n",
    "###########################################\n",
    "\n",
    "env = gym.make('CartPole-v0')\n",
    "\n",
    "observations = env.reset()\n",
    "with tf.Session() as sess:\n",
    "    # https://www.tensorflow.org/api_guides/python/meta_graph\n",
    "    new_saver = tf.train.import_meta_graph('/models/my-650-step-model.meta')\n",
    "    new_saver.restore(sess,'/models/my-650-step-model')\n",
    "\n",
    "    for x in range(500):\n",
    "        env.render()\n",
    "        action_val, gradients_val = sess.run([action, gradients], feed_dict={X: observations.reshape(1, num_inputs)})\n",
    "        observations, reward, done, info = env.step(action_val[0][0])\n"
   ]
  },
  {
   "cell_type": "code",
   "execution_count": null,
   "metadata": {},
   "outputs": [],
   "source": []
  }
 ],
 "metadata": {
  "kernelspec": {
   "display_name": "Python 3",
   "language": "python",
   "name": "python3"
  },
  "language_info": {
   "codemirror_mode": {
    "name": "ipython",
    "version": 3
   },
   "file_extension": ".py",
   "mimetype": "text/x-python",
   "name": "python",
   "nbconvert_exporter": "python",
   "pygments_lexer": "ipython3",
   "version": "3.6.2"
  }
 },
 "nbformat": 4,
 "nbformat_minor": 2
}
