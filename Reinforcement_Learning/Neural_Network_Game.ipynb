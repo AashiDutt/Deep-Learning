{
 "cells": [
  {
   "cell_type": "code",
   "execution_count": 1,
   "metadata": {},
   "outputs": [],
   "source": [
    "# imports \n",
    "\n",
    "import tensorflow as tf\n",
    "import gym \n",
    "import numpy as np"
   ]
  },
  {
   "cell_type": "code",
   "execution_count": 2,
   "metadata": {},
   "outputs": [],
   "source": [
    "num_inputs = 4  # no. of input neurons\n",
    "num_hidden = 4  # no of neurons in hidden layer\n",
    "num_outputs = 1  # probablity to go left  (1- P(to go left ) = P(to go right))\n"
   ]
  },
  {
   "cell_type": "code",
   "execution_count": 3,
   "metadata": {},
   "outputs": [],
   "source": [
    "initializer = tf.contrib.layers.variance_scaling_initializer()"
   ]
  },
  {
   "cell_type": "code",
   "execution_count": 5,
   "metadata": {},
   "outputs": [],
   "source": [
    "X = tf.placeholder(tf.float32,shape =[None,num_inputs])"
   ]
  },
  {
   "cell_type": "code",
   "execution_count": 6,
   "metadata": {},
   "outputs": [],
   "source": [
    "hidden_layer_one = tf.layers.dense(X,num_hidden,activation=tf.nn.relu,kernel_initializer=initializer)\n",
    "\n",
    "hidden_layer_two = tf.layers.dense(hidden_layer_one,num_hidden,activation=tf.nn.relu,kernel_initializer=initializer)\n",
    "\n",
    "output_layer = tf.layers.dense(hidden_layer_two,num_outputs, activation=tf.nn.sigmoid,kernel_initializer=initializer)"
   ]
  },
  {
   "cell_type": "code",
   "execution_count": 7,
   "metadata": {},
   "outputs": [],
   "source": [
    "probabilities = tf.concat(axis = 1,values =[output_layer,1-output_layer])\n",
    "\n",
    "action = tf.multinomial(probabilities,num_samples=1)"
   ]
  },
  {
   "cell_type": "code",
   "execution_count": 8,
   "metadata": {},
   "outputs": [],
   "source": [
    "init = tf.global_variables_initializer()"
   ]
  },
  {
   "cell_type": "code",
   "execution_count": 15,
   "metadata": {},
   "outputs": [
    {
     "name": "stdout",
     "output_type": "stream",
     "text": [
      "Done after 13 steps \n",
      "Done after 40 steps \n",
      "Done after 18 steps \n",
      "Done after 21 steps \n",
      "Done after 26 steps \n",
      "Done after 13 steps \n",
      "Done after 13 steps \n",
      "Done after 9 steps \n",
      "Done after 41 steps \n",
      "Done after 20 steps \n",
      "Done after 19 steps \n",
      "Done after 43 steps \n",
      "Done after 10 steps \n",
      "Done after 16 steps \n",
      "Done after 28 steps \n",
      "Done after 54 steps \n",
      "Done after 43 steps \n",
      "Done after 24 steps \n",
      "Done after 34 steps \n",
      "Done after 17 steps \n",
      "Done after 17 steps \n",
      "Done after 16 steps \n",
      "Done after 46 steps \n",
      "Done after 21 steps \n",
      "Done after 22 steps \n",
      "Done after 16 steps \n",
      "Done after 13 steps \n",
      "Done after 16 steps \n",
      "Done after 18 steps \n",
      "Done after 31 steps \n",
      "Done after 21 steps \n",
      "Done after 34 steps \n",
      "Done after 40 steps \n",
      "Done after 20 steps \n",
      "Done after 16 steps \n",
      "Done after 11 steps \n",
      "Done after 14 steps \n",
      "Done after 24 steps \n",
      "Done after 45 steps \n",
      "Done after 20 steps \n",
      "Done after 16 steps \n",
      "Done after 13 steps \n",
      "Done after 12 steps \n",
      "Done after 27 steps \n",
      "Done after 22 steps \n",
      "Done after 31 steps \n",
      "Done after 12 steps \n",
      "Done after 25 steps \n",
      "Done after 60 steps \n",
      "Done after 15 steps \n",
      "After 50 Episodes ,Average  23.92 steps \n"
     ]
    }
   ],
   "source": [
    "epi = 50\n",
    "step_limit = 500\n",
    "env = gym.make('CartPole-v0')\n",
    "\n",
    "avg_steps =[]\n",
    "\n",
    "with tf.Session() as sess:\n",
    "    init.run()\n",
    "    \n",
    "    for i_episode in range(epi):\n",
    "        obs = env.reset()\n",
    "        \n",
    "        for step in range(step_limit):\n",
    "            action_val = action.eval(feed_dict={X:obs.reshape(1,num_inputs)})\n",
    "            obs,reward,done,info = env.step(action_val[0][0])\n",
    "            \n",
    "            if done:\n",
    "                avg_steps.append(step)\n",
    "                print(\"Done after {} steps \".format(step))\n",
    "                break\n",
    "                \n",
    "print(\"After {} Episodes ,Average  {} steps \".format(epi,np.mean(avg_steps)))\n",
    "env.close()\n",
    "    "
   ]
  }
 ],
 "metadata": {
  "kernelspec": {
   "display_name": "Python 3",
   "language": "python",
   "name": "python3"
  },
  "language_info": {
   "codemirror_mode": {
    "name": "ipython",
    "version": 3
   },
   "file_extension": ".py",
   "mimetype": "text/x-python",
   "name": "python",
   "nbconvert_exporter": "python",
   "pygments_lexer": "ipython3",
   "version": "3.6.2"
  }
 },
 "nbformat": 4,
 "nbformat_minor": 2
}
