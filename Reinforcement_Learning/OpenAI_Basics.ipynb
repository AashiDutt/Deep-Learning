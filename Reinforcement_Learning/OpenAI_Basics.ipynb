{
 "cells": [
  {
   "cell_type": "code",
   "execution_count": null,
   "metadata": {},
   "outputs": [],
   "source": [
    "import gym"
   ]
  },
  {
   "cell_type": "code",
   "execution_count": null,
   "metadata": {},
   "outputs": [],
   "source": [
    "# creating environment\n",
    "\n",
    "env = gym.make('CartPole-v0')"
   ]
  },
  {
   "cell_type": "code",
   "execution_count": null,
   "metadata": {},
   "outputs": [],
   "source": [
    "#print('INITIAL OBSERVATION')\n",
    "observation = env.reset()    # resent environment default\n",
    "\n",
    "#print(observation)"
   ]
  },
  {
   "cell_type": "code",
   "execution_count": null,
   "metadata": {},
   "outputs": [],
   "source": [
    "for _ in range(1000):\n",
    "    env.render()\n",
    "    \n",
    "    cart_pos ,cart_vel,pole_ang, ang_vel = observation\n",
    "    \n",
    " # Learning Agent\n",
    "\n",
    "    if pole_ang > 0:\n",
    "        action = 1\n",
    "    else:\n",
    "        action = 0\n",
    "    observation, reward, done, info = env.step(action)   # feed action in the environment"
   ]
  },
  {
   "cell_type": "code",
   "execution_count": null,
   "metadata": {},
   "outputs": [],
   "source": [
    "print(\"Performed One Random Action\")\n",
    "print('\\n')\n",
    "print('observation')\n",
    "print(observation)\n",
    "print('\\n')\n",
    "\n",
    "print('Reward')\n",
    "print(reward)\n",
    "print('\\n')\n",
    "\n",
    "print('Done')\n",
    "print(done)\n",
    "print('\\n')\n",
    "\n",
    "print('Info')\n",
    "print(info)\n",
    "print('\\n')"
   ]
  },
  {
   "cell_type": "code",
   "execution_count": null,
   "metadata": {},
   "outputs": [],
   "source": []
  }
 ],
 "metadata": {
  "kernelspec": {
   "display_name": "Python 3",
   "language": "python",
   "name": "python3"
  },
  "language_info": {
   "codemirror_mode": {
    "name": "ipython",
    "version": 3
   },
   "file_extension": ".py",
   "mimetype": "text/x-python",
   "name": "python",
   "nbconvert_exporter": "python",
   "pygments_lexer": "ipython3",
   "version": "3.6.2"
  }
 },
 "nbformat": 4,
 "nbformat_minor": 2
}
