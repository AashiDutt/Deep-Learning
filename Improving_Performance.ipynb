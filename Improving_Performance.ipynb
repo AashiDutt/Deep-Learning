{
  "nbformat": 4,
  "nbformat_minor": 0,
  "metadata": {
    "colab": {
      "name": "Improving Performance.ipynb",
      "version": "0.3.2",
      "provenance": [],
      "include_colab_link": true
    },
    "kernelspec": {
      "display_name": "Python 3",
      "language": "python",
      "name": "python3"
    }
  },
  "cells": [
    {
      "cell_type": "markdown",
      "metadata": {
        "id": "view-in-github",
        "colab_type": "text"
      },
      "source": [
        "[View in Colaboratory](https://colab.research.google.com/github/AashiDutt/Deep_Learning/blob/master/Improving_Performance.ipynb)"
      ]
    },
    {
      "metadata": {
        "id": "ag247Oh5mOnd",
        "colab_type": "text"
      },
      "cell_type": "markdown",
      "source": [
        "# This notebook contains intro to learning curves, Batch Normalization and Embedding."
      ]
    },
    {
      "metadata": {
        "id": "0MxFitxjmOnh",
        "colab_type": "code",
        "colab": {}
      },
      "cell_type": "code",
      "source": [
        "# Importing Dependencies\n",
        "\n",
        "import numpy as np \n",
        "import pandas as pd\n",
        "import matplotlib.pyplot as plt\n",
        "% matplotlib  inline"
      ],
      "execution_count": 0,
      "outputs": []
    },
    {
      "metadata": {
        "id": "x_qUiH3smOnu",
        "colab_type": "code",
        "colab": {}
      },
      "cell_type": "code",
      "source": [
        "from sklearn.datasets import load_digits"
      ],
      "execution_count": 0,
      "outputs": []
    },
    {
      "metadata": {
        "id": "U_xHjRhsmOn4",
        "colab_type": "code",
        "colab": {}
      },
      "cell_type": "code",
      "source": [
        "digits = load_digits()"
      ],
      "execution_count": 0,
      "outputs": []
    },
    {
      "metadata": {
        "id": "sj_5CV6OmOoD",
        "colab_type": "code",
        "colab": {}
      },
      "cell_type": "code",
      "source": [
        "X ,y = digits.data, digits.target"
      ],
      "execution_count": 0,
      "outputs": []
    },
    {
      "metadata": {
        "id": "EThRrNRYmOoN",
        "colab_type": "code",
        "colab": {
          "base_uri": "https://localhost:8080/",
          "height": 101
        },
        "outputId": "a65a1d9b-14d4-417e-98a0-fc24662158bf"
      },
      "cell_type": "code",
      "source": [
        "X[0]"
      ],
      "execution_count": 6,
      "outputs": [
        {
          "output_type": "execute_result",
          "data": {
            "text/plain": [
              "array([ 0.,  0.,  5., 13.,  9.,  1.,  0.,  0.,  0.,  0., 13., 15., 10.,\n",
              "       15.,  5.,  0.,  0.,  3., 15.,  2.,  0., 11.,  8.,  0.,  0.,  4.,\n",
              "       12.,  0.,  0.,  8.,  8.,  0.,  0.,  5.,  8.,  0.,  0.,  9.,  8.,\n",
              "        0.,  0.,  4., 11.,  0.,  1., 12.,  7.,  0.,  0.,  2., 14.,  5.,\n",
              "       10., 12.,  0.,  0.,  0.,  0.,  6., 13., 10.,  0.,  0.,  0.])"
            ]
          },
          "metadata": {
            "tags": []
          },
          "execution_count": 6
        }
      ]
    },
    {
      "metadata": {
        "id": "MiXzLyX9mOol",
        "colab_type": "code",
        "colab": {
          "base_uri": "https://localhost:8080/",
          "height": 34
        },
        "outputId": "d140f633-bdda-41c2-bdd5-4ea5b9d13a5e"
      },
      "cell_type": "code",
      "source": [
        "X.shape  # 64 = 8* 8 pixels"
      ],
      "execution_count": 7,
      "outputs": [
        {
          "output_type": "execute_result",
          "data": {
            "text/plain": [
              "(1797, 64)"
            ]
          },
          "metadata": {
            "tags": []
          },
          "execution_count": 7
        }
      ]
    },
    {
      "metadata": {
        "id": "ko6FC4P-mOox",
        "colab_type": "code",
        "colab": {
          "base_uri": "https://localhost:8080/",
          "height": 85
        },
        "outputId": "a24b75be-2ebd-4496-c644-200bb67f6b34"
      },
      "cell_type": "code",
      "source": [
        "for i in range(8):\n",
        "    plt.subplot(1,8,i+1)\n",
        "    plt.imshow(X.reshape(-1, 8, 8)[i], cmap='gray')"
      ],
      "execution_count": 8,
      "outputs": [
        {
          "output_type": "display_data",
          "data": {
            "image/png": "[encoded data removed]",
            "text/plain": [
              "<matplotlib.figure.Figure at 0x7fcfa2d7b160>"
            ]
          },
          "metadata": {
            "tags": []
          }
        }
      ]
    },
    {
      "metadata": {
        "id": "fe1F93LMmOpQ",
        "colab_type": "code",
        "colab": {}
      },
      "cell_type": "code",
      "source": [
        "from sklearn.model_selection import learning_curve"
      ],
      "execution_count": 0,
      "outputs": []
    },
    {
      "metadata": {
        "id": "L2H9PafemOpl",
        "colab_type": "code",
        "colab": {
          "base_uri": "https://localhost:8080/",
          "height": 34
        },
        "outputId": "e273eaf6-a5b4-43d8-98bc-e0e11ed0c28f"
      },
      "cell_type": "code",
      "source": [
        "from keras.models import Sequential\n",
        "from keras.layers import Dense\n",
        "from keras.utils import to_categorical\n",
        "import keras.backend as K\n",
        "from keras.callbacks import EarlyStopping"
      ],
      "execution_count": 10,
      "outputs": [
        {
          "output_type": "stream",
          "text": [
            "Using TensorFlow backend.\n"
          ],
          "name": "stderr"
        }
      ]
    },
    {
      "metadata": {
        "id": "K4MW7suumOp9",
        "colab_type": "code",
        "colab": {}
      },
      "cell_type": "code",
      "source": [
        "K.clear_session()\n",
        "\n",
        "# building a fuly connected model\n",
        "\n",
        "model = Sequential()\n",
        "model.add(Dense(16, input_shape=(64,), activation='relu'))\n",
        "model.add(Dense(10, activation='softmax'))\n",
        "model.compile('adam', 'categorical_crossentropy', metrics=['accuracy'])"
      ],
      "execution_count": 0,
      "outputs": []
    },
    {
      "metadata": {
        "id": "gSpt9d5kmOqH",
        "colab_type": "code",
        "colab": {}
      },
      "cell_type": "code",
      "source": [
        "# store the initial random weights\n",
        "initial_weights = model.get_weights()"
      ],
      "execution_count": 0,
      "outputs": []
    },
    {
      "metadata": {
        "id": "nuqEud1TmOqM",
        "colab_type": "code",
        "colab": {}
      },
      "cell_type": "code",
      "source": [
        "y_cat = to_categorical(y, 10)"
      ],
      "execution_count": 0,
      "outputs": []
    },
    {
      "metadata": {
        "id": "EUVE1yPPmOqr",
        "colab_type": "code",
        "colab": {}
      },
      "cell_type": "code",
      "source": [
        "from sklearn.model_selection import train_test_split"
      ],
      "execution_count": 0,
      "outputs": []
    },
    {
      "metadata": {
        "id": "3SvIl4H-mOq2",
        "colab_type": "code",
        "colab": {}
      },
      "cell_type": "code",
      "source": [
        "\n",
        "X_train, X_test, y_train, y_test = train_test_split(X, y_cat,\n",
        "                                                    test_size=0.3)"
      ],
      "execution_count": 0,
      "outputs": []
    },
    {
      "metadata": {
        "id": "6yOwlXYcmOq6",
        "colab_type": "code",
        "colab": {
          "base_uri": "https://localhost:8080/",
          "height": 34
        },
        "outputId": "daec5e3f-3328-4ef2-9db3-63a752895675"
      },
      "cell_type": "code",
      "source": [
        "\n",
        "X_train.shape"
      ],
      "execution_count": 16,
      "outputs": [
        {
          "output_type": "execute_result",
          "data": {
            "text/plain": [
              "(1257, 64)"
            ]
          },
          "metadata": {
            "tags": []
          },
          "execution_count": 16
        }
      ]
    },
    {
      "metadata": {
        "id": "PRQwMa5ymOrJ",
        "colab_type": "code",
        "colab": {
          "base_uri": "https://localhost:8080/",
          "height": 34
        },
        "outputId": "2b915b02-95c9-4deb-d750-505a4120d4e5"
      },
      "cell_type": "code",
      "source": [
        "\n",
        "# creating an array of train sizes \n",
        "\n",
        "train_sizes = (len(X_train) * np.linspace(0.1, 0.999, 4)).astype(int)\n",
        "train_sizes"
      ],
      "execution_count": 17,
      "outputs": [
        {
          "output_type": "execute_result",
          "data": {
            "text/plain": [
              "array([ 125,  502,  879, 1255])"
            ]
          },
          "metadata": {
            "tags": []
          },
          "execution_count": 17
        }
      ]
    },
    {
      "metadata": {
        "id": "fFfQpyxvmOrc",
        "colab_type": "code",
        "colab": {
          "base_uri": "https://localhost:8080/",
          "height": 138
        },
        "outputId": "f9243dde-e48d-4e01-b4eb-6b7ad213de62"
      },
      "cell_type": "code",
      "source": [
        "train_scores = []\n",
        "test_scores = []\n",
        "\n",
        "for train_size in train_sizes:\n",
        "    X_train_frac, _, y_train_frac, _ = \\\n",
        "    train_test_split(X_train, y_train, train_size=train_size)  # performing a 2nd train test split\n",
        "    \n",
        "    # at each iteration reset the weights of the model\n",
        "    # to the initial random weights\n",
        "    model.set_weights(initial_weights)\n",
        "    \n",
        "    h = model.fit(X_train_frac, y_train_frac,\n",
        "                  verbose=0,\n",
        "                  epochs=300,\n",
        "                  callbacks=[EarlyStopping(monitor='loss', patience=1)])\n",
        "\n",
        "    r = model.evaluate(X_train_frac, y_train_frac, verbose=0)\n",
        "    train_scores.append(r[-1])\n",
        "    \n",
        "    e = model.evaluate(X_test, y_test, verbose=0)\n",
        "    test_scores.append(e[-1])\n",
        "    \n",
        "    print(\"Done size: \", train_size)"
      ],
      "execution_count": 18,
      "outputs": [
        {
          "output_type": "stream",
          "text": [
            "/usr/local/lib/python3.6/dist-packages/sklearn/model_selection/_split.py:2026: FutureWarning: From version 0.21, test_size will always complement train_size unless both are specified.\n",
            "  FutureWarning)\n"
          ],
          "name": "stderr"
        },
        {
          "output_type": "stream",
          "text": [
            "Done size:  125\n",
            "Done size:  502\n",
            "Done size:  879\n",
            "Done size:  1255\n"
          ],
          "name": "stdout"
        }
      ]
    },
    {
      "metadata": {
        "id": "ne6F-ULAmOrj",
        "colab_type": "code",
        "colab": {
          "base_uri": "https://localhost:8080/",
          "height": 282
        },
        "outputId": "e3caf078-37df-480a-9f11-070be8579eb6"
      },
      "cell_type": "code",
      "source": [
        "plt.plot(train_sizes, train_scores, 'o-', label=\"Training score\")\n",
        "plt.plot(train_sizes, test_scores, 'o-', label=\"Test score\")\n",
        "plt.legend(loc=\"best\")"
      ],
      "execution_count": 19,
      "outputs": [
        {
          "output_type": "execute_result",
          "data": {
            "text/plain": [
              "<matplotlib.legend.Legend at 0x7fcf91d17ac8>"
            ]
          },
          "metadata": {
            "tags": []
          },
          "execution_count": 19
        },
        {
          "output_type": "display_data",
          "data": {
            "image/png": "[encoded data removed]",
            "text/plain": [
              "<matplotlib.figure.Figure at 0x7fcf91ceecc0>"
            ]
          },
          "metadata": {
            "tags": []
          }
        }
      ]
    },
    {
      "metadata": {
        "id": "ugvnRlXhmOrq",
        "colab_type": "text"
      },
      "cell_type": "markdown",
      "source": [
        "# Batch Normalization"
      ]
    },
    {
      "metadata": {
        "id": "mS9FtafMmOrr",
        "colab_type": "code",
        "colab": {}
      },
      "cell_type": "code",
      "source": [
        "from keras.layers import BatchNormalization"
      ],
      "execution_count": 0,
      "outputs": []
    },
    {
      "metadata": {
        "id": "L0RXFuvpmOru",
        "colab_type": "code",
        "colab": {}
      },
      "cell_type": "code",
      "source": [
        "# the below function will help us compare the result on data with and without batch normalization\n",
        "\n",
        "def repeated_training(X_train,\n",
        "                      y_train,\n",
        "                      X_test,\n",
        "                      y_test,\n",
        "                      units=512,\n",
        "                      activation='sigmoid',\n",
        "                      optimizer='sgd',\n",
        "                      do_bn=False,\n",
        "                      epochs=10,\n",
        "                      repeats=3):\n",
        "    histories = []\n",
        "    \n",
        "    for repeat in range(repeats):\n",
        "        K.clear_session()\n",
        "\n",
        "        model = Sequential()\n",
        "        \n",
        "        # first fully connected layer\n",
        "        model.add(Dense(units,\n",
        "                        input_shape=X_train.shape[1:],\n",
        "                        kernel_initializer='normal',\n",
        "                        activation=activation))\n",
        "        if do_bn: # if batch normalization is true then we perform following\n",
        "            model.add(BatchNormalization())\n",
        "\n",
        "        # second fully connected layer\n",
        "        model.add(Dense(units,\n",
        "                        kernel_initializer='normal',\n",
        "                        activation=activation))\n",
        "        if do_bn:  # if batch normalization is true then we perform following\n",
        "            model.add(BatchNormalization())\n",
        "\n",
        "        # third fully connected layer\n",
        "        model.add(Dense(units,\n",
        "                        kernel_initializer='normal',\n",
        "                        activation=activation))\n",
        "        if do_bn:\n",
        "            model.add(BatchNormalization())\n",
        "\n",
        "        # output layer\n",
        "        model.add(Dense(10, activation='softmax'))\n",
        "        \n",
        "        model.compile(optimizer,\n",
        "                      'categorical_crossentropy',\n",
        "                      metrics=['accuracy'])\n",
        "\n",
        "        h = model.fit(X_train, y_train,\n",
        "                      validation_data=(X_test, y_test),\n",
        "                      epochs=epochs,\n",
        "                      verbose=0)\n",
        "        histories.append([h.history['acc'], h.history['val_acc']])\n",
        "        print(repeat, end=' ')\n",
        "\n",
        "    histories = np.array(histories)\n",
        "    \n",
        "    # calculate mean and standard deviation across repeats:\n",
        "    mean_acc = histories.mean(axis=0)\n",
        "    std_acc = histories.std(axis=0)\n",
        "    print()\n",
        "    \n",
        "    return mean_acc[0], std_acc[0], mean_acc[1], std_acc[1]"
      ],
      "execution_count": 0,
      "outputs": []
    },
    {
      "metadata": {
        "id": "bQ9FnO4amOrx",
        "colab_type": "code",
        "colab": {
          "base_uri": "https://localhost:8080/",
          "height": 34
        },
        "outputId": "6b1bea3d-6b72-4bdf-8867-ef521aaaf4b4"
      },
      "cell_type": "code",
      "source": [
        "mean_acc, std_acc, mean_acc_val, std_acc_val = \\\n",
        "    repeated_training(X_train, y_train, X_test, y_test, do_bn=False)"
      ],
      "execution_count": 22,
      "outputs": [
        {
          "output_type": "stream",
          "text": [
            "0 1 2 \n"
          ],
          "name": "stdout"
        }
      ]
    },
    {
      "metadata": {
        "id": "UBao73_CmOr0",
        "colab_type": "code",
        "colab": {
          "base_uri": "https://localhost:8080/",
          "height": 34
        },
        "outputId": "d89cefe0-e0ee-4baf-8d22-9aaeb186ecf4"
      },
      "cell_type": "code",
      "source": [
        "mean_acc_bn, std_acc_bn, mean_acc_val_bn, std_acc_val_bn = \\\n",
        "    repeated_training(X_train, y_train, X_test, y_test, do_bn=True)"
      ],
      "execution_count": 24,
      "outputs": [
        {
          "output_type": "stream",
          "text": [
            "0 1 2 \n"
          ],
          "name": "stdout"
        }
      ]
    },
    {
      "metadata": {
        "id": "o8CGH6sCmwHt",
        "colab_type": "code",
        "colab": {}
      },
      "cell_type": "code",
      "source": [
        "def plot_mean_std(m, s):\n",
        "    plt.plot(m)\n",
        "    plt.fill_between(range(len(m)), m-s, m+s, alpha=0.1)\n"
      ],
      "execution_count": 0,
      "outputs": []
    },
    {
      "metadata": {
        "id": "-PbzttgymxFU",
        "colab_type": "code",
        "colab": {
          "base_uri": "https://localhost:8080/",
          "height": 310
        },
        "outputId": "5cadf9eb-f634-4014-84cd-d4dc0fd9cbf1"
      },
      "cell_type": "code",
      "source": [
        "\n",
        "plot_mean_std(mean_acc, std_acc)\n",
        "plot_mean_std(mean_acc_val, std_acc_val)\n",
        "plot_mean_std(mean_acc_bn, std_acc_bn)\n",
        "plot_mean_std(mean_acc_val_bn, std_acc_val_bn)\n",
        "plt.ylim(0, 1.01)\n",
        "plt.title(\"Batch Normalization Accuracy\")\n",
        "plt.xlabel('Epochs')\n",
        "plt.ylabel('Accuracy')\n",
        "plt.legend(['Train', 'Test', 'Train with Batch Normalization', 'Test with Batch Normalization'], loc='best')"
      ],
      "execution_count": 26,
      "outputs": [
        {
          "output_type": "execute_result",
          "data": {
            "text/plain": [
              "<matplotlib.legend.Legend at 0x7fcf9010cd68>"
            ]
          },
          "metadata": {
            "tags": []
          },
          "execution_count": 26
        },
        {
          "output_type": "display_data",
          "data": {
            "image/png": "[encoded data removed]",
            "text/plain": [
              "<matplotlib.figure.Figure at 0x7fcf90e4b898>"
            ]
          },
          "metadata": {
            "tags": []
          }
        }
      ]
    },
    {
      "metadata": {
        "id": "qOICPIeKm1I1",
        "colab_type": "code",
        "colab": {}
      },
      "cell_type": "code",
      "source": [
        "# we figure out that if we apply batch normalization then our accuracy score for both train and test is quite high while without batch normalization the score is low."
      ],
      "execution_count": 0,
      "outputs": []
    },
    {
      "metadata": {
        "id": "D-zMnAy3pTie",
        "colab_type": "text"
      },
      "cell_type": "markdown",
      "source": [
        "# DROPOUT\n",
        "\n",
        "# According to Wikipedia — \n",
        "The term “dropout” refers to dropping out units (both hidden and visible) in a neural network.\n",
        "\n",
        "# Why we need DROPOUT ?\n",
        "“to prevent over-fitting”.\n",
        "\n",
        "# Dropout is an approach to regularization in neural networks which helps reducing interdependent learning amongst the neurons.\n",
        "\n",
        "# Training Phase:\n",
        "Training Phase: For each hidden layer, for each training sample, for each iteration, ignore (zero out) a random fraction, p, of nodes (and corresponding activations).\n",
        "\n",
        "# Testing Phase:\n",
        "Use all activations, but reduce them by a factor p (to account for the missing activations during training)."
      ]
    },
    {
      "metadata": {
        "id": "4AHGM_TFnPhR",
        "colab_type": "code",
        "colab": {}
      },
      "cell_type": "code",
      "source": [
        "from keras.layers import Dropout"
      ],
      "execution_count": 0,
      "outputs": []
    },
    {
      "metadata": {
        "id": "I82SbtNMp4ki",
        "colab_type": "code",
        "colab": {}
      },
      "cell_type": "code",
      "source": [
        "model = Sequential()\n",
        "model.add(Dropout(0.2, input_shape=X_train.shape[1:]))\n",
        "# first fully connected layer\n",
        "model.add(Dense(512, kernel_initializer='normal',\n",
        "                kernel_regularizer='l2', activation='sigmoid'))\n",
        "\n",
        "model.add(Dropout(0.4)) # 40 % drop\n",
        "model.add(Dense(10, activation='softmax'))\n",
        "\n",
        "model.compile('sgd',\n",
        "              'categorical_crossentropy',\n",
        "              metrics=['accuracy'])"
      ],
      "execution_count": 0,
      "outputs": []
    },
    {
      "metadata": {
        "id": "OAFFbva-uM_a",
        "colab_type": "text"
      },
      "cell_type": "markdown",
      "source": [
        "# EMBEDDING"
      ]
    },
    {
      "metadata": {
        "id": "32apxUPyt6xh",
        "colab_type": "code",
        "colab": {}
      },
      "cell_type": "code",
      "source": [
        "from keras.layers import Embedding"
      ],
      "execution_count": 0,
      "outputs": []
    },
    {
      "metadata": {
        "id": "utex91kMt7Ph",
        "colab_type": "code",
        "colab": {}
      },
      "cell_type": "code",
      "source": [
        "model = Sequential()\n",
        "model.add(Embedding(input_dim=100, output_dim=2))\n",
        "model.compile(loss='binary_crossentropy',\n",
        "              optimizer='adam',\n",
        "              metrics=['accuracy'])"
      ],
      "execution_count": 0,
      "outputs": []
    },
    {
      "metadata": {
        "id": "5B8xHVU1t9Nn",
        "colab_type": "code",
        "colab": {
          "base_uri": "https://localhost:8080/",
          "height": 168
        },
        "outputId": "efa9f8f4-02a6-43a6-f3da-65bd4c47932e"
      },
      "cell_type": "code",
      "source": [
        "model.summary()"
      ],
      "execution_count": 40,
      "outputs": [
        {
          "output_type": "stream",
          "text": [
            "_________________________________________________________________\n",
            "Layer (type)                 Output Shape              Param #   \n",
            "=================================================================\n",
            "embedding_1 (Embedding)      (None, None, 2)           200       \n",
            "=================================================================\n",
            "Total params: 200\n",
            "Trainable params: 200\n",
            "Non-trainable params: 0\n",
            "_________________________________________________________________\n"
          ],
          "name": "stdout"
        }
      ]
    },
    {
      "metadata": {
        "id": "QOLx1dSkt-6R",
        "colab_type": "code",
        "colab": {}
      },
      "cell_type": "code",
      "source": [
        "emb = model.predict(np.array([[81,  1, 96, 79],\n",
        "                              [17, 47, 69, 50],\n",
        "                              [49,  3, 12, 88]]))"
      ],
      "execution_count": 0,
      "outputs": []
    },
    {
      "metadata": {
        "id": "yLEFtxHWuAwc",
        "colab_type": "code",
        "colab": {
          "base_uri": "https://localhost:8080/",
          "height": 34
        },
        "outputId": "e417e29d-6477-4b38-a7c9-323c11b95462"
      },
      "cell_type": "code",
      "source": [
        "emb.shape"
      ],
      "execution_count": 42,
      "outputs": [
        {
          "output_type": "execute_result",
          "data": {
            "text/plain": [
              "(3, 4, 2)"
            ]
          },
          "metadata": {
            "tags": []
          },
          "execution_count": 42
        }
      ]
    },
    {
      "metadata": {
        "id": "T_Rs3FVLuCdE",
        "colab_type": "code",
        "colab": {
          "base_uri": "https://localhost:8080/",
          "height": 252
        },
        "outputId": "3c97d36a-8027-47fb-f2dd-945e1810ed05"
      },
      "cell_type": "code",
      "source": [
        "emb"
      ],
      "execution_count": 44,
      "outputs": [
        {
          "output_type": "execute_result",
          "data": {
            "text/plain": [
              "array([[[ 0.02557871,  0.00271542],\n",
              "        [-0.04221493, -0.00357164],\n",
              "        [-0.02768998,  0.04884778],\n",
              "        [ 0.019416  ,  0.01663906]],\n",
              "\n",
              "       [[ 0.02716779,  0.00521315],\n",
              "        [-0.00728911, -0.04091393],\n",
              "        [ 0.02641007,  0.01399897],\n",
              "        [ 0.00773316,  0.04620098]],\n",
              "\n",
              "       [[ 0.04166988, -0.02109087],\n",
              "        [-0.04285281, -0.01646789],\n",
              "        [-0.0359752 , -0.02984565],\n",
              "        [-0.00090098,  0.01123235]]], dtype=float32)"
            ]
          },
          "metadata": {
            "tags": []
          },
          "execution_count": 44
        }
      ]
    },
    {
      "metadata": {
        "id": "rOusUl0UuD--",
        "colab_type": "code",
        "colab": {}
      },
      "cell_type": "code",
      "source": [
        ""
      ],
      "execution_count": 0,
      "outputs": []
    }
  ]
}